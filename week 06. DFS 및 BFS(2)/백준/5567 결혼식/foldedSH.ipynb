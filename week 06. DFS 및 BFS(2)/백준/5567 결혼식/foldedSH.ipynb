{
 "cells": [
  {
   "cell_type": "code",
   "execution_count": 22,
   "metadata": {},
   "outputs": [
    {
     "name": "stdout",
     "output_type": "stream",
     "text": [
      "0\n"
     ]
    }
   ],
   "source": [
    "n = int(input())\n",
    "m = int(input())\n",
    "relations = [list(map(int, input().split())) for _ in range(m)]\n",
    "\n",
    "nodes = [[] for _ in range(n+1)]\n",
    "for node in relations:\n",
    "    idx = node[0]\n",
    "    friend = node[1]\n",
    "    nodes[idx].append(friend)\n",
    "\n",
    "visited = [False]*(n+1)\n",
    "\n",
    "visited[1] = True\n",
    "for i in nodes[1]:\n",
    "    visited[i] = True\n",
    "    for j in nodes[i]:\n",
    "        visited[j] = True\n",
    "\n",
    "print(sum(visited)-1)\n",
    "\n",
    "# 반례: 3, 2, [2, 1], [3, 1] 입력하면 2가 나와야 함"
   ]
  },
  {
   "cell_type": "code",
   "execution_count": 28,
   "metadata": {},
   "outputs": [
    {
     "name": "stdout",
     "output_type": "stream",
     "text": [
      "0\n"
     ]
    }
   ],
   "source": [
    "n = int(input())\n",
    "m = int(input())\n",
    "nodes = [[] for _ in range(n + 1)]\n",
    "\n",
    "for _ in range(m):\n",
    "\tx, y = list(map(int, input().split()))\n",
    "\tnodes[y].append(x)\n",
    "\tnodes[x].append(y)\n",
    "\n",
    "visited = [False]*(n+1)\n",
    "\n",
    "visited[1] = True\n",
    "for i in nodes[1]:\n",
    "    visited[i] = True\n",
    "    for j in nodes[i]:\n",
    "        visited[j] = True\n",
    "\n",
    "print(sum(visited)-1)"
   ]
  },
  {
   "cell_type": "code",
   "execution_count": 14,
   "metadata": {},
   "outputs": [
    {
     "data": {
      "text/plain": [
       "[[], [], [3, 5], [4], [5], [6], []]"
      ]
     },
     "execution_count": 14,
     "metadata": {},
     "output_type": "execute_result"
    }
   ],
   "source": [
    "# 5567\n",
    "def dfs(graph, v, visited):\n",
    "    visited[v] = True\n",
    "    for i in graph[v]:\n",
    "        if v != 1 and v not in graph[1]: \n",
    "            break\n",
    "        if not visited[i]:\n",
    "            visited[i] = True\n",
    "        dfs(graph, i, visited)"
   ]
  },
  {
   "cell_type": "code",
   "execution_count": 7,
   "metadata": {},
   "outputs": [
    {
     "data": {
      "text/plain": [
       "[[], [7, 6, 5, 9], [4], [7, 8], [10], [], [8], [10], [], [], []]"
      ]
     },
     "execution_count": 7,
     "metadata": {},
     "output_type": "execute_result"
    }
   ],
   "source": [
    "nodes"
   ]
  },
  {
   "cell_type": "code",
   "execution_count": 12,
   "metadata": {},
   "outputs": [
    {
     "data": {
      "text/plain": [
       "[[], [2, 3], [3], [4], [5], [], []]"
      ]
     },
     "execution_count": 12,
     "metadata": {},
     "output_type": "execute_result"
    }
   ],
   "source": [
    "nodes"
   ]
  },
  {
   "cell_type": "code",
   "execution_count": 10,
   "metadata": {},
   "outputs": [
    {
     "name": "stdout",
     "output_type": "stream",
     "text": [
      "3\n"
     ]
    }
   ],
   "source": [
    "def dfs(graph, v, visited):\n",
    "    visited[v] = True\n",
    "    for i in graph[v]:\n",
    "        if v != 1 and v not in graph[1]: \n",
    "            break\n",
    "        if not visited[i]:\n",
    "            dfs(graph, i, visited)\n",
    "visited = [False]*(n+1)\n",
    "dfs(nodes, 1, visited)\n",
    "print(sum(visited)-1)"
   ]
  },
  {
   "cell_type": "code",
   "execution_count": 11,
   "metadata": {},
   "outputs": [
    {
     "data": {
      "text/plain": [
       "[False, True, True, True, True, False, False]"
      ]
     },
     "execution_count": 11,
     "metadata": {},
     "output_type": "execute_result"
    }
   ],
   "source": [
    "visited"
   ]
  },
  {
   "cell_type": "code",
   "execution_count": null,
   "metadata": {},
   "outputs": [],
   "source": []
  }
 ],
 "metadata": {
  "interpreter": {
   "hash": "8fac594bfae6525c0c41b4041d2d72effa188cc8ead05f81b1fab2bb098927fb"
  },
  "kernelspec": {
   "display_name": "Python 3.8.8 ('base')",
   "language": "python",
   "name": "python3"
  },
  "language_info": {
   "codemirror_mode": {
    "name": "ipython",
    "version": 3
   },
   "file_extension": ".py",
   "mimetype": "text/x-python",
   "name": "python",
   "nbconvert_exporter": "python",
   "pygments_lexer": "ipython3",
   "version": "3.8.8"
  },
  "orig_nbformat": 4
 },
 "nbformat": 4,
 "nbformat_minor": 2
}
