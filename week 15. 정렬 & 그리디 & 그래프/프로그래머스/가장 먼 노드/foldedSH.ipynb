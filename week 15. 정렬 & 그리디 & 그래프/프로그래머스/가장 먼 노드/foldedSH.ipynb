{
 "cells": [
  {
   "cell_type": "code",
   "execution_count": null,
   "metadata": {},
   "outputs": [],
   "source": [
    "import heapq\n",
    "\n",
    "def solution(n, vertex):\n",
    "    graph = [[] for _ in range(n+1)]\n",
    "\n",
    "    distance = [int(1e8)] * (n+1)\n",
    "\n",
    "    for v1, v2 in vertex:\n",
    "        graph[v1-1].append((v2-1, 1))\n",
    "        graph[v2-1].append((v1-1, 1))\n",
    "\n",
    "    def dijkstra(start):\n",
    "        q = []\n",
    "\n",
    "        heapq.heappush(q, (0, start))\n",
    "        distance[start] = 0\n",
    "\n",
    "        while q:\n",
    "            dist, now = heapq.heappop(q)\n",
    "            if distance[now] < dist:\n",
    "                continue\n",
    "            for i in graph[now]:\n",
    "                cost = dist + i[1]\n",
    "                if cost < distance[i[0]]:\n",
    "                    distance[i[0]] = cost\n",
    "                    heapq.heappush(q, (cost, i[0]))\n",
    "\n",
    "    dijkstra(0)\n",
    "    _max = max(distance[:-1])\n",
    "    answer = distance.count(_max)\n",
    "\n",
    "    return answer"
   ]
  }
 ],
 "metadata": {
  "language_info": {
   "name": "python"
  },
  "orig_nbformat": 4
 },
 "nbformat": 4,
 "nbformat_minor": 2
}
